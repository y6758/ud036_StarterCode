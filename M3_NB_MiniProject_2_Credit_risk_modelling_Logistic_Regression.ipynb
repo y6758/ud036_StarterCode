{
  "nbformat": 4,
  "nbformat_minor": 5,
  "metadata": {
    "kernelspec": {
      "display_name": "Python 3",
      "language": "python",
      "name": "python3"
    },
    "language_info": {
      "codemirror_mode": {
        "name": "ipython",
        "version": 3
      },
      "file_extension": ".py",
      "mimetype": "text/x-python",
      "name": "python",
      "nbconvert_exporter": "python",
      "pygments_lexer": "ipython3",
      "version": "3.9.2"
    },
    "colab": {
      "provenance": [],
      "include_colab_link": true
    }
  },
  "cells": [
    {
      "cell_type": "markdown",
      "metadata": {
        "id": "view-in-github",
        "colab_type": "text"
      },
      "source": [
        "<a href=\"https://colab.research.google.com/github/y6758/ud036_StarterCode/blob/master/M3_NB_MiniProject_2_Credit_risk_modelling_Logistic_Regression.ipynb\" target=\"_parent\"><img src=\"https://colab.research.google.com/assets/colab-badge.svg\" alt=\"Open In Colab\"/></a>"
      ]
    },
    {
      "cell_type": "markdown",
      "metadata": {
        "id": "associate-sunset"
      },
      "source": [
        "# Advanced Certification Program in Computational Data Science\n",
        "## A program by IISc and TalentSprint\n",
        "### Mini-Project: Credit risk modelling using Logistic Regression"
      ],
      "id": "associate-sunset"
    },
    {
      "cell_type": "markdown",
      "metadata": {
        "id": "handled-tooth"
      },
      "source": [
        "## Problem Statement"
      ],
      "id": "handled-tooth"
    },
    {
      "cell_type": "markdown",
      "metadata": {
        "id": "accessory-watts"
      },
      "source": [
        "Predict the loan defaulters using a Logistic Regression model on the credit risk data and calculate credit scores"
      ],
      "id": "accessory-watts"
    },
    {
      "cell_type": "markdown",
      "metadata": {
        "id": "twenty-indonesia"
      },
      "source": [
        "## Learning Objectives"
      ],
      "id": "twenty-indonesia"
    },
    {
      "cell_type": "markdown",
      "metadata": {
        "id": "honest-friendship"
      },
      "source": [
        "At the end of the mini-project, you will be able to :\n",
        "\n",
        "* perform data exploration, preprocessing and visualization\n",
        "* implement Logistic Regression using manual code or using sklearn library\n",
        "* evaluate the model using appropriate performance metrics\n",
        "* develop a credit scoring system"
      ],
      "id": "honest-friendship"
    },
    {
      "cell_type": "code",
      "source": [],
      "metadata": {
        "id": "hwUj68rzRO_m"
      },
      "id": "hwUj68rzRO_m",
      "execution_count": null,
      "outputs": []
    },
    {
      "cell_type": "markdown",
      "metadata": {
        "id": "lesbian-bottom"
      },
      "source": [
        "## Dataset"
      ],
      "id": "lesbian-bottom"
    },
    {
      "cell_type": "markdown",
      "metadata": {
        "id": "fixed-trainer"
      },
      "source": [
        "The dataset chosen for this mini-project is the [Give Me Some Credit](https://cdn.iisc.talentsprint.com/CDS/Give_me_some_credit_BigML.pdf) dataset which can be used to build models for predicting loan repayment defaulters\n",
        "#### Datafields\n",
        "\n",
        "- **SeriousDlqin2yrs:** Person experienced 90 days past due delinquency or worse\n",
        "- **RevolvingUtilizationOfUnsecuredLines:** Total balance on credit cards and personal lines of credit except real estate and no installment debt like car loans divided by the sum of credit limits\n",
        "- **age:** Age of borrower in years\n",
        "- **NumberOfTime30-59DaysPastDueNotWorse:** Number of times borrower has been 30-59 days past due but no worse in the last 2 years.\n",
        "- **DebtRatio:** Monthly debt payments, alimony,living costs divided by monthy gross income\n",
        "- **MonthlyIncome:** Monthly income\n",
        "- **NumberOfOpenCreditLinesAndLoans:** Number of Open loans (installment like car loan or mortgage) and Lines of credit (e.g. credit cards)\n",
        "- **NumberOfTimes90DaysLate:** Number of times borrower has been 90 days or more past due.\n",
        "- **NumberRealEstateLoansOrLines:**\tNumber of mortgage and real estate loans including home equity lines of credit\n",
        "- **NumberOfTime60-89DaysPastDueNotWorse:**\tNumber of times borrower has been 60-89 days past due but no worse in the last 2 years.\n",
        "- **NumberOfDependents:** Number of dependents in family excluding themselves (spouse, children etc.)"
      ],
      "id": "fixed-trainer"
    },
    {
      "cell_type": "markdown",
      "metadata": {
        "id": "rapid-hierarchy"
      },
      "source": [
        "## Information"
      ],
      "id": "rapid-hierarchy"
    },
    {
      "cell_type": "markdown",
      "metadata": {
        "id": "prescribed-matter"
      },
      "source": [
        "Credit risk arises when a corporate or individual borrower fails to meet their debt obligations. From the lender's perspective, credit risk could disrupt its cash flows or increase collection costs, since the lender may be forced to hire a debt collection agency to enforce the collection. The loss may be partial or complete, where the lender incurs a loss of part of the loan or the entire loan extended to the borrower.\n",
        "\n",
        "Credit scoring algorithms, which calculate the probability of default, are the best methods that banks use to determine whether or not a loan should be granted.\n",
        "\n",
        "In order to build a credit scoring system, the following feature transformations are performed:\n",
        "\n",
        "#### Weight of Evidence and Information value\n",
        "\n",
        "Logistic regression is a commonly used technique in credit scoring for solving binary classification problems. Prior to model fitting, another iteration of variable selection is valuable to check if the newly WOE transformed variables are still good model candidates. Preferred candidate variables are those with higher information value having a linear relationship with the dependent variable, have good coverage across all categories, have a normal distribution, contain a notable overall contribution, and are relevant to the business.\n",
        "\n",
        "**Weight of evidence** (WOE) is a powerful tool for feature representation and evaluation in data science. WOE can provide interpret able transformation to both categorical and numerical features. The weight of evidence tells the predictive power of an independent variable in relation to the dependent variable. Since it evolved from credit scoring world, it is generally described as a measure of the separation of good and bad customers. \"Bad Customers\" refers to the customers who defaulted on a loan. and \"Good Customers\" refers to the customers who paid back loan. WOE can be calculated using the below formula:\n",
        "\n",
        "$$WOE = ln \\left( \\frac{\\%   of  Non\\_Events}{\\%   of  Events} \\right)$$\n",
        "\n",
        "Steps to calculate WOE\n",
        "* For a continuous variable, split data into 10 parts (or lesser depending on the distribution).\n",
        "* Calculate the number of events and non-events in each group (bin)\n",
        "* Calculate the % of events and % of non-events in each group.\n",
        "* Calculate WOE by taking natural log of division of % of non-events and % of events\n",
        "\n",
        "**Information value** is one of the most useful technique to select important variables in a predictive model. It helps to rank variables on the basis of their importance. The IV is calculated using the following formula :\n",
        "$$IV = ∑ (\\% of Non\\_Events - \\% of Events) * WOE$$\n",
        "\n",
        "Read more about `WOE` and `IV` from the following [link](https://cdn.iisc.talentsprint.com/CDS/Assignments/Module2/M2_NB_MiniProject_2_Credit_risk_modelling_Logistic_Regression_WoE_and_IV.pdf)"
      ],
      "id": "prescribed-matter"
    },
    {
      "cell_type": "markdown",
      "metadata": {
        "id": "operating-latter"
      },
      "source": [
        "## Grading = 10 Points"
      ],
      "id": "operating-latter"
    },
    {
      "cell_type": "markdown",
      "metadata": {
        "id": "caring-syndrome"
      },
      "source": [
        "### Download the dataset"
      ],
      "id": "caring-syndrome"
    },
    {
      "cell_type": "code",
      "metadata": {
        "id": "comparable-delay",
        "colab": {
          "base_uri": "https://localhost:8080/"
        },
        "outputId": "7a76431d-3861-4865-a8c8-79c375f14e3a"
      },
      "source": [
        "#@title Download Dataset\n",
        "!wget -qq https://cdn.iisc.talentsprint.com/CDS/MiniProjects/GiveMeSomeCredit.csv\n",
        "!pip -qq install xverse\n",
        "print(\"Data Downloaded Successfully!\")"
      ],
      "id": "comparable-delay",
      "execution_count": 4,
      "outputs": [
        {
          "output_type": "stream",
          "name": "stdout",
          "text": [
            "Data Downloaded Successfully!\n"
          ]
        }
      ]
    },
    {
      "cell_type": "markdown",
      "source": [
        "### Install Packages"
      ],
      "metadata": {
        "id": "5nHbUGBPFdIC"
      },
      "id": "5nHbUGBPFdIC"
    },
    {
      "cell_type": "code",
      "source": [
        "!pip install pandas==1.3.5"
      ],
      "metadata": {
        "id": "jc2WLiGnFg-p",
        "colab": {
          "base_uri": "https://localhost:8080/"
        },
        "outputId": "ce83ee70-5cc5-47f5-de85-2c3c1facd78e"
      },
      "execution_count": 2,
      "outputs": [
        {
          "output_type": "stream",
          "name": "stdout",
          "text": [
            "Collecting pandas==1.3.5\n",
            "  Downloading pandas-1.3.5-cp310-cp310-manylinux_2_17_x86_64.manylinux2014_x86_64.whl (11.5 MB)\n",
            "\u001b[2K     \u001b[90m━━━━━━━━━━━━━━━━━━━━━━━━━━━━━━━━━━━━━━━━\u001b[0m \u001b[32m11.5/11.5 MB\u001b[0m \u001b[31m38.7 MB/s\u001b[0m eta \u001b[36m0:00:00\u001b[0m\n",
            "\u001b[?25hRequirement already satisfied: python-dateutil>=2.7.3 in /usr/local/lib/python3.10/dist-packages (from pandas==1.3.5) (2.8.2)\n",
            "Requirement already satisfied: pytz>=2017.3 in /usr/local/lib/python3.10/dist-packages (from pandas==1.3.5) (2023.4)\n",
            "Requirement already satisfied: numpy>=1.21.0 in /usr/local/lib/python3.10/dist-packages (from pandas==1.3.5) (1.25.2)\n",
            "Requirement already satisfied: six>=1.5 in /usr/local/lib/python3.10/dist-packages (from python-dateutil>=2.7.3->pandas==1.3.5) (1.16.0)\n",
            "Installing collected packages: pandas\n",
            "  Attempting uninstall: pandas\n",
            "    Found existing installation: pandas 2.0.3\n",
            "    Uninstalling pandas-2.0.3:\n",
            "      Successfully uninstalled pandas-2.0.3\n",
            "\u001b[31mERROR: pip's dependency resolver does not currently take into account all the packages that are installed. This behaviour is the source of the following dependency conflicts.\n",
            "bigframes 1.11.1 requires pandas>=1.5.0, but you have pandas 1.3.5 which is incompatible.\n",
            "cudf-cu12 24.4.1 requires pandas<2.2.2dev0,>=2.0, but you have pandas 1.3.5 which is incompatible.\n",
            "google-colab 1.0.0 requires pandas==2.0.3, but you have pandas 1.3.5 which is incompatible.\n",
            "plotnine 0.12.4 requires pandas>=1.5.0, but you have pandas 1.3.5 which is incompatible.\n",
            "statsmodels 0.14.2 requires pandas!=2.1.0,>=1.4, but you have pandas 1.3.5 which is incompatible.\n",
            "xarray 2023.7.0 requires pandas>=1.4, but you have pandas 1.3.5 which is incompatible.\u001b[0m\u001b[31m\n",
            "\u001b[0mSuccessfully installed pandas-1.3.5\n"
          ]
        }
      ],
      "id": "jc2WLiGnFg-p"
    },
    {
      "cell_type": "code",
      "source": [
        "!pip install xverse"
      ],
      "metadata": {
        "id": "1mqj1J8TFjGS",
        "colab": {
          "base_uri": "https://localhost:8080/"
        },
        "outputId": "05848828-bf5d-4ce6-bfd7-0ac978f70f3a"
      },
      "execution_count": 3,
      "outputs": [
        {
          "output_type": "stream",
          "name": "stdout",
          "text": [
            "Requirement already satisfied: xverse in /usr/local/lib/python3.10/dist-packages (1.0.5)\n",
            "Requirement already satisfied: numpy>=1.11.3 in /usr/local/lib/python3.10/dist-packages (from xverse) (1.25.2)\n",
            "Requirement already satisfied: scikit-learn>=0.19.0 in /usr/local/lib/python3.10/dist-packages (from xverse) (1.2.2)\n",
            "Requirement already satisfied: scipy>=0.19.0 in /usr/local/lib/python3.10/dist-packages (from xverse) (1.11.4)\n",
            "Requirement already satisfied: statsmodels>=0.6.1 in /usr/local/lib/python3.10/dist-packages (from xverse) (0.14.2)\n",
            "Requirement already satisfied: pandas>=0.21.1 in /usr/local/lib/python3.10/dist-packages (from xverse) (1.3.5)\n",
            "Requirement already satisfied: matplotlib>=3.0.3 in /usr/local/lib/python3.10/dist-packages (from xverse) (3.7.1)\n",
            "Requirement already satisfied: contourpy>=1.0.1 in /usr/local/lib/python3.10/dist-packages (from matplotlib>=3.0.3->xverse) (1.2.1)\n",
            "Requirement already satisfied: cycler>=0.10 in /usr/local/lib/python3.10/dist-packages (from matplotlib>=3.0.3->xverse) (0.12.1)\n",
            "Requirement already satisfied: fonttools>=4.22.0 in /usr/local/lib/python3.10/dist-packages (from matplotlib>=3.0.3->xverse) (4.53.1)\n",
            "Requirement already satisfied: kiwisolver>=1.0.1 in /usr/local/lib/python3.10/dist-packages (from matplotlib>=3.0.3->xverse) (1.4.5)\n",
            "Requirement already satisfied: packaging>=20.0 in /usr/local/lib/python3.10/dist-packages (from matplotlib>=3.0.3->xverse) (24.1)\n",
            "Requirement already satisfied: pillow>=6.2.0 in /usr/local/lib/python3.10/dist-packages (from matplotlib>=3.0.3->xverse) (9.4.0)\n",
            "Requirement already satisfied: pyparsing>=2.3.1 in /usr/local/lib/python3.10/dist-packages (from matplotlib>=3.0.3->xverse) (3.1.2)\n",
            "Requirement already satisfied: python-dateutil>=2.7 in /usr/local/lib/python3.10/dist-packages (from matplotlib>=3.0.3->xverse) (2.8.2)\n",
            "Requirement already satisfied: pytz>=2017.3 in /usr/local/lib/python3.10/dist-packages (from pandas>=0.21.1->xverse) (2023.4)\n",
            "Requirement already satisfied: joblib>=1.1.1 in /usr/local/lib/python3.10/dist-packages (from scikit-learn>=0.19.0->xverse) (1.4.2)\n",
            "Requirement already satisfied: threadpoolctl>=2.0.0 in /usr/local/lib/python3.10/dist-packages (from scikit-learn>=0.19.0->xverse) (3.5.0)\n",
            "Collecting pandas>=0.21.1 (from xverse)\n",
            "  Downloading pandas-2.2.2-cp310-cp310-manylinux_2_17_x86_64.manylinux2014_x86_64.whl (13.0 MB)\n",
            "\u001b[2K     \u001b[90m━━━━━━━━━━━━━━━━━━━━━━━━━━━━━━━━━━━━━━━━\u001b[0m \u001b[32m13.0/13.0 MB\u001b[0m \u001b[31m51.4 MB/s\u001b[0m eta \u001b[36m0:00:00\u001b[0m\n",
            "\u001b[?25hRequirement already satisfied: patsy>=0.5.6 in /usr/local/lib/python3.10/dist-packages (from statsmodels>=0.6.1->xverse) (0.5.6)\n",
            "Requirement already satisfied: tzdata>=2022.7 in /usr/local/lib/python3.10/dist-packages (from pandas>=0.21.1->xverse) (2024.1)\n",
            "Requirement already satisfied: six in /usr/local/lib/python3.10/dist-packages (from patsy>=0.5.6->statsmodels>=0.6.1->xverse) (1.16.0)\n",
            "Installing collected packages: pandas\n",
            "  Attempting uninstall: pandas\n",
            "    Found existing installation: pandas 1.3.5\n",
            "    Uninstalling pandas-1.3.5:\n",
            "      Successfully uninstalled pandas-1.3.5\n",
            "\u001b[31mERROR: pip's dependency resolver does not currently take into account all the packages that are installed. This behaviour is the source of the following dependency conflicts.\n",
            "cudf-cu12 24.4.1 requires pandas<2.2.2dev0,>=2.0, but you have pandas 2.2.2 which is incompatible.\n",
            "google-colab 1.0.0 requires pandas==2.0.3, but you have pandas 2.2.2 which is incompatible.\u001b[0m\u001b[31m\n",
            "\u001b[0mSuccessfully installed pandas-2.2.2\n"
          ]
        }
      ],
      "id": "1mqj1J8TFjGS"
    },
    {
      "cell_type": "markdown",
      "metadata": {
        "id": "appreciated-pattern"
      },
      "source": [
        "### Import Neccesary Packages"
      ],
      "id": "appreciated-pattern"
    },
    {
      "cell_type": "code",
      "metadata": {
        "id": "loose-marsh"
      },
      "source": [
        "import pandas as pd\n",
        "import numpy as np\n",
        "from sklearn.model_selection import train_test_split\n",
        "from sklearn.linear_model import LogisticRegression\n",
        "from sklearn import metrics\n",
        "import seaborn as sns\n",
        "from matplotlib import pyplot as plt\n",
        "import math\n",
        "from xverse.transformer import MonotonicBinning,WOE\n",
        "%matplotlib inline"
      ],
      "id": "loose-marsh",
      "execution_count": 6,
      "outputs": []
    },
    {
      "cell_type": "markdown",
      "metadata": {
        "id": "compressed-reflection"
      },
      "source": [
        "### Load the dataset"
      ],
      "id": "compressed-reflection"
    },
    {
      "cell_type": "code",
      "metadata": {
        "id": "fatty-graph"
      },
      "source": [
        "# YOUR CODE HERE\n",
        "data_org = pd.read_csv(\"GiveMeSomeCredit.csv\")"
      ],
      "id": "fatty-graph",
      "execution_count": 7,
      "outputs": []
    },
    {
      "cell_type": "markdown",
      "metadata": {
        "id": "experienced-sleeping"
      },
      "source": [
        "#### Describe the all statistical properties of the train dataset"
      ],
      "id": "experienced-sleeping"
    },
    {
      "cell_type": "code",
      "metadata": {
        "id": "greek-methodology",
        "colab": {
          "base_uri": "https://localhost:8080/",
          "height": 320
        },
        "outputId": "00ae34b4-070e-4c2a-9f39-1d540d4fa590"
      },
      "source": [
        "# YOUR CODE HERE\n",
        "data_org.describe()"
      ],
      "id": "greek-methodology",
      "execution_count": 9,
      "outputs": [
        {
          "output_type": "execute_result",
          "data": {
            "text/plain": [
              "          Unnamed: 0  SeriousDlqin2yrs  RevolvingUtilizationOfUnsecuredLines  \\\n",
              "count  150000.000000     150000.000000                         150000.000000   \n",
              "mean    75000.500000          0.066840                              6.048438   \n",
              "std     43301.414527          0.249746                            249.755371   \n",
              "min         1.000000          0.000000                              0.000000   \n",
              "25%     37500.750000          0.000000                              0.029867   \n",
              "50%     75000.500000          0.000000                              0.154181   \n",
              "75%    112500.250000          0.000000                              0.559046   \n",
              "max    150000.000000          1.000000                          50708.000000   \n",
              "\n",
              "                 age  NumberOfTime30-59DaysPastDueNotWorse      DebtRatio  \\\n",
              "count  150000.000000                         150000.000000  150000.000000   \n",
              "mean       52.295207                              0.421033     353.005076   \n",
              "std        14.771866                              4.192781    2037.818523   \n",
              "min         0.000000                              0.000000       0.000000   \n",
              "25%        41.000000                              0.000000       0.175074   \n",
              "50%        52.000000                              0.000000       0.366508   \n",
              "75%        63.000000                              0.000000       0.868254   \n",
              "max       109.000000                             98.000000  329664.000000   \n",
              "\n",
              "       MonthlyIncome  NumberOfOpenCreditLinesAndLoans  \\\n",
              "count   1.202690e+05                    150000.000000   \n",
              "mean    6.670221e+03                         8.452760   \n",
              "std     1.438467e+04                         5.145951   \n",
              "min     0.000000e+00                         0.000000   \n",
              "25%     3.400000e+03                         5.000000   \n",
              "50%     5.400000e+03                         8.000000   \n",
              "75%     8.249000e+03                        11.000000   \n",
              "max     3.008750e+06                        58.000000   \n",
              "\n",
              "       NumberOfTimes90DaysLate  NumberRealEstateLoansOrLines  \\\n",
              "count            150000.000000                 150000.000000   \n",
              "mean                  0.265973                      1.018240   \n",
              "std                   4.169304                      1.129771   \n",
              "min                   0.000000                      0.000000   \n",
              "25%                   0.000000                      0.000000   \n",
              "50%                   0.000000                      1.000000   \n",
              "75%                   0.000000                      2.000000   \n",
              "max                  98.000000                     54.000000   \n",
              "\n",
              "       NumberOfTime60-89DaysPastDueNotWorse  NumberOfDependents  \n",
              "count                         150000.000000       146076.000000  \n",
              "mean                               0.240387            0.757222  \n",
              "std                                4.155179            1.115086  \n",
              "min                                0.000000            0.000000  \n",
              "25%                                0.000000            0.000000  \n",
              "50%                                0.000000            0.000000  \n",
              "75%                                0.000000            1.000000  \n",
              "max                               98.000000           20.000000  "
            ],
            "text/html": [
              "\n",
              "  <div id=\"df-41f516b2-ad2e-45c8-9bc5-ea08d1bd86b0\" class=\"colab-df-container\">\n",
              "    <div>\n",
              "<style scoped>\n",
              "    .dataframe tbody tr th:only-of-type {\n",
              "        vertical-align: middle;\n",
              "    }\n",
              "\n",
              "    .dataframe tbody tr th {\n",
              "        vertical-align: top;\n",
              "    }\n",
              "\n",
              "    .dataframe thead th {\n",
              "        text-align: right;\n",
              "    }\n",
              "</style>\n",
              "<table border=\"1\" class=\"dataframe\">\n",
              "  <thead>\n",
              "    <tr style=\"text-align: right;\">\n",
              "      <th></th>\n",
              "      <th>Unnamed: 0</th>\n",
              "      <th>SeriousDlqin2yrs</th>\n",
              "      <th>RevolvingUtilizationOfUnsecuredLines</th>\n",
              "      <th>age</th>\n",
              "      <th>NumberOfTime30-59DaysPastDueNotWorse</th>\n",
              "      <th>DebtRatio</th>\n",
              "      <th>MonthlyIncome</th>\n",
              "      <th>NumberOfOpenCreditLinesAndLoans</th>\n",
              "      <th>NumberOfTimes90DaysLate</th>\n",
              "      <th>NumberRealEstateLoansOrLines</th>\n",
              "      <th>NumberOfTime60-89DaysPastDueNotWorse</th>\n",
              "      <th>NumberOfDependents</th>\n",
              "    </tr>\n",
              "  </thead>\n",
              "  <tbody>\n",
              "    <tr>\n",
              "      <th>count</th>\n",
              "      <td>150000.000000</td>\n",
              "      <td>150000.000000</td>\n",
              "      <td>150000.000000</td>\n",
              "      <td>150000.000000</td>\n",
              "      <td>150000.000000</td>\n",
              "      <td>150000.000000</td>\n",
              "      <td>1.202690e+05</td>\n",
              "      <td>150000.000000</td>\n",
              "      <td>150000.000000</td>\n",
              "      <td>150000.000000</td>\n",
              "      <td>150000.000000</td>\n",
              "      <td>146076.000000</td>\n",
              "    </tr>\n",
              "    <tr>\n",
              "      <th>mean</th>\n",
              "      <td>75000.500000</td>\n",
              "      <td>0.066840</td>\n",
              "      <td>6.048438</td>\n",
              "      <td>52.295207</td>\n",
              "      <td>0.421033</td>\n",
              "      <td>353.005076</td>\n",
              "      <td>6.670221e+03</td>\n",
              "      <td>8.452760</td>\n",
              "      <td>0.265973</td>\n",
              "      <td>1.018240</td>\n",
              "      <td>0.240387</td>\n",
              "      <td>0.757222</td>\n",
              "    </tr>\n",
              "    <tr>\n",
              "      <th>std</th>\n",
              "      <td>43301.414527</td>\n",
              "      <td>0.249746</td>\n",
              "      <td>249.755371</td>\n",
              "      <td>14.771866</td>\n",
              "      <td>4.192781</td>\n",
              "      <td>2037.818523</td>\n",
              "      <td>1.438467e+04</td>\n",
              "      <td>5.145951</td>\n",
              "      <td>4.169304</td>\n",
              "      <td>1.129771</td>\n",
              "      <td>4.155179</td>\n",
              "      <td>1.115086</td>\n",
              "    </tr>\n",
              "    <tr>\n",
              "      <th>min</th>\n",
              "      <td>1.000000</td>\n",
              "      <td>0.000000</td>\n",
              "      <td>0.000000</td>\n",
              "      <td>0.000000</td>\n",
              "      <td>0.000000</td>\n",
              "      <td>0.000000</td>\n",
              "      <td>0.000000e+00</td>\n",
              "      <td>0.000000</td>\n",
              "      <td>0.000000</td>\n",
              "      <td>0.000000</td>\n",
              "      <td>0.000000</td>\n",
              "      <td>0.000000</td>\n",
              "    </tr>\n",
              "    <tr>\n",
              "      <th>25%</th>\n",
              "      <td>37500.750000</td>\n",
              "      <td>0.000000</td>\n",
              "      <td>0.029867</td>\n",
              "      <td>41.000000</td>\n",
              "      <td>0.000000</td>\n",
              "      <td>0.175074</td>\n",
              "      <td>3.400000e+03</td>\n",
              "      <td>5.000000</td>\n",
              "      <td>0.000000</td>\n",
              "      <td>0.000000</td>\n",
              "      <td>0.000000</td>\n",
              "      <td>0.000000</td>\n",
              "    </tr>\n",
              "    <tr>\n",
              "      <th>50%</th>\n",
              "      <td>75000.500000</td>\n",
              "      <td>0.000000</td>\n",
              "      <td>0.154181</td>\n",
              "      <td>52.000000</td>\n",
              "      <td>0.000000</td>\n",
              "      <td>0.366508</td>\n",
              "      <td>5.400000e+03</td>\n",
              "      <td>8.000000</td>\n",
              "      <td>0.000000</td>\n",
              "      <td>1.000000</td>\n",
              "      <td>0.000000</td>\n",
              "      <td>0.000000</td>\n",
              "    </tr>\n",
              "    <tr>\n",
              "      <th>75%</th>\n",
              "      <td>112500.250000</td>\n",
              "      <td>0.000000</td>\n",
              "      <td>0.559046</td>\n",
              "      <td>63.000000</td>\n",
              "      <td>0.000000</td>\n",
              "      <td>0.868254</td>\n",
              "      <td>8.249000e+03</td>\n",
              "      <td>11.000000</td>\n",
              "      <td>0.000000</td>\n",
              "      <td>2.000000</td>\n",
              "      <td>0.000000</td>\n",
              "      <td>1.000000</td>\n",
              "    </tr>\n",
              "    <tr>\n",
              "      <th>max</th>\n",
              "      <td>150000.000000</td>\n",
              "      <td>1.000000</td>\n",
              "      <td>50708.000000</td>\n",
              "      <td>109.000000</td>\n",
              "      <td>98.000000</td>\n",
              "      <td>329664.000000</td>\n",
              "      <td>3.008750e+06</td>\n",
              "      <td>58.000000</td>\n",
              "      <td>98.000000</td>\n",
              "      <td>54.000000</td>\n",
              "      <td>98.000000</td>\n",
              "      <td>20.000000</td>\n",
              "    </tr>\n",
              "  </tbody>\n",
              "</table>\n",
              "</div>\n",
              "    <div class=\"colab-df-buttons\">\n",
              "\n",
              "  <div class=\"colab-df-container\">\n",
              "    <button class=\"colab-df-convert\" onclick=\"convertToInteractive('df-41f516b2-ad2e-45c8-9bc5-ea08d1bd86b0')\"\n",
              "            title=\"Convert this dataframe to an interactive table.\"\n",
              "            style=\"display:none;\">\n",
              "\n",
              "  <svg xmlns=\"http://www.w3.org/2000/svg\" height=\"24px\" viewBox=\"0 -960 960 960\">\n",
              "    <path d=\"M120-120v-720h720v720H120Zm60-500h600v-160H180v160Zm220 220h160v-160H400v160Zm0 220h160v-160H400v160ZM180-400h160v-160H180v160Zm440 0h160v-160H620v160ZM180-180h160v-160H180v160Zm440 0h160v-160H620v160Z\"/>\n",
              "  </svg>\n",
              "    </button>\n",
              "\n",
              "  <style>\n",
              "    .colab-df-container {\n",
              "      display:flex;\n",
              "      gap: 12px;\n",
              "    }\n",
              "\n",
              "    .colab-df-convert {\n",
              "      background-color: #E8F0FE;\n",
              "      border: none;\n",
              "      border-radius: 50%;\n",
              "      cursor: pointer;\n",
              "      display: none;\n",
              "      fill: #1967D2;\n",
              "      height: 32px;\n",
              "      padding: 0 0 0 0;\n",
              "      width: 32px;\n",
              "    }\n",
              "\n",
              "    .colab-df-convert:hover {\n",
              "      background-color: #E2EBFA;\n",
              "      box-shadow: 0px 1px 2px rgba(60, 64, 67, 0.3), 0px 1px 3px 1px rgba(60, 64, 67, 0.15);\n",
              "      fill: #174EA6;\n",
              "    }\n",
              "\n",
              "    .colab-df-buttons div {\n",
              "      margin-bottom: 4px;\n",
              "    }\n",
              "\n",
              "    [theme=dark] .colab-df-convert {\n",
              "      background-color: #3B4455;\n",
              "      fill: #D2E3FC;\n",
              "    }\n",
              "\n",
              "    [theme=dark] .colab-df-convert:hover {\n",
              "      background-color: #434B5C;\n",
              "      box-shadow: 0px 1px 3px 1px rgba(0, 0, 0, 0.15);\n",
              "      filter: drop-shadow(0px 1px 2px rgba(0, 0, 0, 0.3));\n",
              "      fill: #FFFFFF;\n",
              "    }\n",
              "  </style>\n",
              "\n",
              "    <script>\n",
              "      const buttonEl =\n",
              "        document.querySelector('#df-41f516b2-ad2e-45c8-9bc5-ea08d1bd86b0 button.colab-df-convert');\n",
              "      buttonEl.style.display =\n",
              "        google.colab.kernel.accessAllowed ? 'block' : 'none';\n",
              "\n",
              "      async function convertToInteractive(key) {\n",
              "        const element = document.querySelector('#df-41f516b2-ad2e-45c8-9bc5-ea08d1bd86b0');\n",
              "        const dataTable =\n",
              "          await google.colab.kernel.invokeFunction('convertToInteractive',\n",
              "                                                    [key], {});\n",
              "        if (!dataTable) return;\n",
              "\n",
              "        const docLinkHtml = 'Like what you see? Visit the ' +\n",
              "          '<a target=\"_blank\" href=https://colab.research.google.com/notebooks/data_table.ipynb>data table notebook</a>'\n",
              "          + ' to learn more about interactive tables.';\n",
              "        element.innerHTML = '';\n",
              "        dataTable['output_type'] = 'display_data';\n",
              "        await google.colab.output.renderOutput(dataTable, element);\n",
              "        const docLink = document.createElement('div');\n",
              "        docLink.innerHTML = docLinkHtml;\n",
              "        element.appendChild(docLink);\n",
              "      }\n",
              "    </script>\n",
              "  </div>\n",
              "\n",
              "\n",
              "<div id=\"df-b039631d-eadb-4d71-b4bd-823dc054eadf\">\n",
              "  <button class=\"colab-df-quickchart\" onclick=\"quickchart('df-b039631d-eadb-4d71-b4bd-823dc054eadf')\"\n",
              "            title=\"Suggest charts\"\n",
              "            style=\"display:none;\">\n",
              "\n",
              "<svg xmlns=\"http://www.w3.org/2000/svg\" height=\"24px\"viewBox=\"0 0 24 24\"\n",
              "     width=\"24px\">\n",
              "    <g>\n",
              "        <path d=\"M19 3H5c-1.1 0-2 .9-2 2v14c0 1.1.9 2 2 2h14c1.1 0 2-.9 2-2V5c0-1.1-.9-2-2-2zM9 17H7v-7h2v7zm4 0h-2V7h2v10zm4 0h-2v-4h2v4z\"/>\n",
              "    </g>\n",
              "</svg>\n",
              "  </button>\n",
              "\n",
              "<style>\n",
              "  .colab-df-quickchart {\n",
              "      --bg-color: #E8F0FE;\n",
              "      --fill-color: #1967D2;\n",
              "      --hover-bg-color: #E2EBFA;\n",
              "      --hover-fill-color: #174EA6;\n",
              "      --disabled-fill-color: #AAA;\n",
              "      --disabled-bg-color: #DDD;\n",
              "  }\n",
              "\n",
              "  [theme=dark] .colab-df-quickchart {\n",
              "      --bg-color: #3B4455;\n",
              "      --fill-color: #D2E3FC;\n",
              "      --hover-bg-color: #434B5C;\n",
              "      --hover-fill-color: #FFFFFF;\n",
              "      --disabled-bg-color: #3B4455;\n",
              "      --disabled-fill-color: #666;\n",
              "  }\n",
              "\n",
              "  .colab-df-quickchart {\n",
              "    background-color: var(--bg-color);\n",
              "    border: none;\n",
              "    border-radius: 50%;\n",
              "    cursor: pointer;\n",
              "    display: none;\n",
              "    fill: var(--fill-color);\n",
              "    height: 32px;\n",
              "    padding: 0;\n",
              "    width: 32px;\n",
              "  }\n",
              "\n",
              "  .colab-df-quickchart:hover {\n",
              "    background-color: var(--hover-bg-color);\n",
              "    box-shadow: 0 1px 2px rgba(60, 64, 67, 0.3), 0 1px 3px 1px rgba(60, 64, 67, 0.15);\n",
              "    fill: var(--button-hover-fill-color);\n",
              "  }\n",
              "\n",
              "  .colab-df-quickchart-complete:disabled,\n",
              "  .colab-df-quickchart-complete:disabled:hover {\n",
              "    background-color: var(--disabled-bg-color);\n",
              "    fill: var(--disabled-fill-color);\n",
              "    box-shadow: none;\n",
              "  }\n",
              "\n",
              "  .colab-df-spinner {\n",
              "    border: 2px solid var(--fill-color);\n",
              "    border-color: transparent;\n",
              "    border-bottom-color: var(--fill-color);\n",
              "    animation:\n",
              "      spin 1s steps(1) infinite;\n",
              "  }\n",
              "\n",
              "  @keyframes spin {\n",
              "    0% {\n",
              "      border-color: transparent;\n",
              "      border-bottom-color: var(--fill-color);\n",
              "      border-left-color: var(--fill-color);\n",
              "    }\n",
              "    20% {\n",
              "      border-color: transparent;\n",
              "      border-left-color: var(--fill-color);\n",
              "      border-top-color: var(--fill-color);\n",
              "    }\n",
              "    30% {\n",
              "      border-color: transparent;\n",
              "      border-left-color: var(--fill-color);\n",
              "      border-top-color: var(--fill-color);\n",
              "      border-right-color: var(--fill-color);\n",
              "    }\n",
              "    40% {\n",
              "      border-color: transparent;\n",
              "      border-right-color: var(--fill-color);\n",
              "      border-top-color: var(--fill-color);\n",
              "    }\n",
              "    60% {\n",
              "      border-color: transparent;\n",
              "      border-right-color: var(--fill-color);\n",
              "    }\n",
              "    80% {\n",
              "      border-color: transparent;\n",
              "      border-right-color: var(--fill-color);\n",
              "      border-bottom-color: var(--fill-color);\n",
              "    }\n",
              "    90% {\n",
              "      border-color: transparent;\n",
              "      border-bottom-color: var(--fill-color);\n",
              "    }\n",
              "  }\n",
              "</style>\n",
              "\n",
              "  <script>\n",
              "    async function quickchart(key) {\n",
              "      const quickchartButtonEl =\n",
              "        document.querySelector('#' + key + ' button');\n",
              "      quickchartButtonEl.disabled = true;  // To prevent multiple clicks.\n",
              "      quickchartButtonEl.classList.add('colab-df-spinner');\n",
              "      try {\n",
              "        const charts = await google.colab.kernel.invokeFunction(\n",
              "            'suggestCharts', [key], {});\n",
              "      } catch (error) {\n",
              "        console.error('Error during call to suggestCharts:', error);\n",
              "      }\n",
              "      quickchartButtonEl.classList.remove('colab-df-spinner');\n",
              "      quickchartButtonEl.classList.add('colab-df-quickchart-complete');\n",
              "    }\n",
              "    (() => {\n",
              "      let quickchartButtonEl =\n",
              "        document.querySelector('#df-b039631d-eadb-4d71-b4bd-823dc054eadf button');\n",
              "      quickchartButtonEl.style.display =\n",
              "        google.colab.kernel.accessAllowed ? 'block' : 'none';\n",
              "    })();\n",
              "  </script>\n",
              "</div>\n",
              "\n",
              "    </div>\n",
              "  </div>\n"
            ],
            "application/vnd.google.colaboratory.intrinsic+json": {
              "type": "dataframe",
              "summary": "{\n  \"name\": \"data_org\",\n  \"rows\": 8,\n  \"fields\": [\n    {\n      \"column\": \"Unnamed: 0\",\n      \"properties\": {\n        \"dtype\": \"number\",\n        \"std\": 54060.42093734011,\n        \"min\": 1.0,\n        \"max\": 150000.0,\n        \"num_unique_values\": 6,\n        \"samples\": [\n          150000.0,\n          75000.5,\n          112500.25\n        ],\n        \"semantic_type\": \"\",\n        \"description\": \"\"\n      }\n    },\n    {\n      \"column\": \"SeriousDlqin2yrs\",\n      \"properties\": {\n        \"dtype\": \"number\",\n        \"std\": 53032.94209248323,\n        \"min\": 0.0,\n        \"max\": 150000.0,\n        \"num_unique_values\": 5,\n        \"samples\": [\n          0.06684,\n          1.0,\n          0.24974553092871982\n        ],\n        \"semantic_type\": \"\",\n        \"description\": \"\"\n      }\n    },\n    {\n      \"column\": \"RevolvingUtilizationOfUnsecuredLines\",\n      \"properties\": {\n        \"dtype\": \"number\",\n        \"std\": 53483.00135780071,\n        \"min\": 0.0,\n        \"max\": 150000.0,\n        \"num_unique_values\": 8,\n        \"samples\": [\n          6.048438054666888,\n          0.154180737,\n          150000.0\n        ],\n        \"semantic_type\": \"\",\n        \"description\": \"\"\n      }\n    },\n    {\n      \"column\": \"age\",\n      \"properties\": {\n        \"dtype\": \"number\",\n        \"std\": 53016.24668669193,\n        \"min\": 0.0,\n        \"max\": 150000.0,\n        \"num_unique_values\": 8,\n        \"samples\": [\n          52.295206666666665,\n          52.0,\n          150000.0\n        ],\n        \"semantic_type\": \"\",\n        \"description\": \"\"\n      }\n    },\n    {\n      \"column\": \"NumberOfTime30-59DaysPastDueNotWorse\",\n      \"properties\": {\n        \"dtype\": \"number\",\n        \"std\": 53027.83674301857,\n        \"min\": 0.0,\n        \"max\": 150000.0,\n        \"num_unique_values\": 5,\n        \"samples\": [\n          0.4210333333333333,\n          98.0,\n          4.192781272018315\n        ],\n        \"semantic_type\": \"\",\n        \"description\": \"\"\n      }\n    },\n    {\n      \"column\": \"DebtRatio\",\n      \"properties\": {\n        \"dtype\": \"number\",\n        \"std\": 120792.23821428795,\n        \"min\": 0.0,\n        \"max\": 329664.0,\n        \"num_unique_values\": 8,\n        \"samples\": [\n          353.00507576386985,\n          0.366507841,\n          150000.0\n        ],\n        \"semantic_type\": \"\",\n        \"description\": \"\"\n      }\n    },\n    {\n      \"column\": \"MonthlyIncome\",\n      \"properties\": {\n        \"dtype\": \"number\",\n        \"std\": 1056515.0220149714,\n        \"min\": 0.0,\n        \"max\": 3008750.0,\n        \"num_unique_values\": 8,\n        \"samples\": [\n          6670.221237392844,\n          5400.0,\n          120269.0\n        ],\n        \"semantic_type\": \"\",\n        \"description\": \"\"\n      }\n    },\n    {\n      \"column\": \"NumberOfOpenCreditLinesAndLoans\",\n      \"properties\": {\n        \"dtype\": \"number\",\n        \"std\": 53028.18331237868,\n        \"min\": 0.0,\n        \"max\": 150000.0,\n        \"num_unique_values\": 8,\n        \"samples\": [\n          8.45276,\n          8.0,\n          150000.0\n        ],\n        \"semantic_type\": \"\",\n        \"description\": \"\"\n      }\n    },\n    {\n      \"column\": \"NumberOfTimes90DaysLate\",\n      \"properties\": {\n        \"dtype\": \"number\",\n        \"std\": 53027.845767158105,\n        \"min\": 0.0,\n        \"max\": 150000.0,\n        \"num_unique_values\": 5,\n        \"samples\": [\n          0.26597333333333334,\n          98.0,\n          4.169303787594445\n        ],\n        \"semantic_type\": \"\",\n        \"description\": \"\"\n      }\n    },\n    {\n      \"column\": \"NumberRealEstateLoansOrLines\",\n      \"properties\": {\n        \"dtype\": \"number\",\n        \"std\": 53030.024427663826,\n        \"min\": 0.0,\n        \"max\": 150000.0,\n        \"num_unique_values\": 7,\n        \"samples\": [\n          150000.0,\n          1.01824,\n          2.0\n        ],\n        \"semantic_type\": \"\",\n        \"description\": \"\"\n      }\n    },\n    {\n      \"column\": \"NumberOfTime60-89DaysPastDueNotWorse\",\n      \"properties\": {\n        \"dtype\": \"number\",\n        \"std\": 53027.84777425715,\n        \"min\": 0.0,\n        \"max\": 150000.0,\n        \"num_unique_values\": 5,\n        \"samples\": [\n          0.24038666666666667,\n          98.0,\n          4.1551794209872215\n        ],\n        \"semantic_type\": \"\",\n        \"description\": \"\"\n      }\n    },\n    {\n      \"column\": \"NumberOfDependents\",\n      \"properties\": {\n        \"dtype\": \"number\",\n        \"std\": 51644.510312044025,\n        \"min\": 0.0,\n        \"max\": 146076.0,\n        \"num_unique_values\": 6,\n        \"samples\": [\n          146076.0,\n          0.7572222678605657,\n          20.0\n        ],\n        \"semantic_type\": \"\",\n        \"description\": \"\"\n      }\n    }\n  ]\n}"
            }
          },
          "metadata": {},
          "execution_count": 9
        }
      ]
    },
    {
      "cell_type": "markdown",
      "metadata": {
        "id": "christian-hamilton"
      },
      "source": [
        "### Pre-processing (1 point)"
      ],
      "id": "christian-hamilton"
    },
    {
      "cell_type": "markdown",
      "metadata": {
        "id": "global-decision"
      },
      "source": [
        "#### Remove unwanted columns"
      ],
      "id": "global-decision"
    },
    {
      "cell_type": "code",
      "metadata": {
        "id": "pharmaceutical-latvia"
      },
      "source": [
        "# YOUR CODE HERE\n",
        "data_org.columns\n",
        "data_org.drop(['Unnamed: 0'], axis=1, inplace=True)"
      ],
      "id": "pharmaceutical-latvia",
      "execution_count": 11,
      "outputs": []
    },
    {
      "cell_type": "code",
      "source": [
        "data_org.shape\n",
        "data_org.columns\n"
      ],
      "metadata": {
        "colab": {
          "base_uri": "https://localhost:8080/"
        },
        "id": "a7SipiPDyI2x",
        "outputId": "d00f32ac-65e0-4c58-a75b-453bed47046f"
      },
      "id": "a7SipiPDyI2x",
      "execution_count": 15,
      "outputs": [
        {
          "output_type": "execute_result",
          "data": {
            "text/plain": [
              "Index(['SeriousDlqin2yrs', 'RevolvingUtilizationOfUnsecuredLines', 'age',\n",
              "       'NumberOfTime30-59DaysPastDueNotWorse', 'DebtRatio', 'MonthlyIncome',\n",
              "       'NumberOfOpenCreditLinesAndLoans', 'NumberOfTimes90DaysLate',\n",
              "       'NumberRealEstateLoansOrLines', 'NumberOfTime60-89DaysPastDueNotWorse',\n",
              "       'NumberOfDependents'],\n",
              "      dtype='object')"
            ]
          },
          "metadata": {},
          "execution_count": 15
        }
      ]
    },
    {
      "cell_type": "markdown",
      "metadata": {
        "id": "usual-elimination"
      },
      "source": [
        "#### Handle the missing data\n",
        "\n",
        "Find the how many null values in the dataset and fill with mean or remove."
      ],
      "id": "usual-elimination"
    },
    {
      "cell_type": "code",
      "metadata": {
        "id": "heated-findings",
        "colab": {
          "base_uri": "https://localhost:8080/"
        },
        "outputId": "46654637-bd4a-43c6-9c4c-839fc4c2b343"
      },
      "source": [
        "# YOUR CODE HERE\n",
        "data_org.isnull().sum()\n",
        "print(data_org['MonthlyIncome'].mean())\n",
        "data_org['MonthlyIncome'].fillna(data_org['MonthlyIncome'].mean(), inplace=True)\n",
        "data_org['NumberOfDependents'].fillna(data_org['NumberOfDependents'].mean(), inplace=True)\n",
        "data_org.isnull().sum()"
      ],
      "id": "heated-findings",
      "execution_count": 20,
      "outputs": [
        {
          "output_type": "stream",
          "name": "stdout",
          "text": [
            "6670.221237392847\n"
          ]
        },
        {
          "output_type": "stream",
          "name": "stderr",
          "text": [
            "<ipython-input-20-b3a46fdaca49>:4: FutureWarning: A value is trying to be set on a copy of a DataFrame or Series through chained assignment using an inplace method.\n",
            "The behavior will change in pandas 3.0. This inplace method will never work because the intermediate object on which we are setting values always behaves as a copy.\n",
            "\n",
            "For example, when doing 'df[col].method(value, inplace=True)', try using 'df.method({col: value}, inplace=True)' or df[col] = df[col].method(value) instead, to perform the operation inplace on the original object.\n",
            "\n",
            "\n",
            "  data_org['MonthlyIncome'].fillna(data_org['MonthlyIncome'].mean(), inplace=True)\n",
            "<ipython-input-20-b3a46fdaca49>:5: FutureWarning: A value is trying to be set on a copy of a DataFrame or Series through chained assignment using an inplace method.\n",
            "The behavior will change in pandas 3.0. This inplace method will never work because the intermediate object on which we are setting values always behaves as a copy.\n",
            "\n",
            "For example, when doing 'df[col].method(value, inplace=True)', try using 'df.method({col: value}, inplace=True)' or df[col] = df[col].method(value) instead, to perform the operation inplace on the original object.\n",
            "\n",
            "\n",
            "  data_org['NumberOfDependents'].fillna(data_org['NumberOfDependents'].mean(), inplace=True)\n"
          ]
        },
        {
          "output_type": "execute_result",
          "data": {
            "text/plain": [
              "SeriousDlqin2yrs                        0\n",
              "RevolvingUtilizationOfUnsecuredLines    0\n",
              "age                                     0\n",
              "NumberOfTime30-59DaysPastDueNotWorse    0\n",
              "DebtRatio                               0\n",
              "MonthlyIncome                           0\n",
              "NumberOfOpenCreditLinesAndLoans         0\n",
              "NumberOfTimes90DaysLate                 0\n",
              "NumberRealEstateLoansOrLines            0\n",
              "NumberOfTime60-89DaysPastDueNotWorse    0\n",
              "NumberOfDependents                      0\n",
              "dtype: int64"
            ]
          },
          "metadata": {},
          "execution_count": 20
        }
      ]
    },
    {
      "cell_type": "code",
      "source": [
        "data_org.head()"
      ],
      "metadata": {
        "colab": {
          "base_uri": "https://localhost:8080/",
          "height": 226
        },
        "id": "cNXKQ6ExzA6c",
        "outputId": "303b3e93-798e-46a7-ceda-ee3833bd1f11"
      },
      "id": "cNXKQ6ExzA6c",
      "execution_count": 21,
      "outputs": [
        {
          "output_type": "execute_result",
          "data": {
            "text/plain": [
              "   SeriousDlqin2yrs  RevolvingUtilizationOfUnsecuredLines  age  \\\n",
              "0                 1                              0.766127   45   \n",
              "1                 0                              0.957151   40   \n",
              "2                 0                              0.658180   38   \n",
              "3                 0                              0.233810   30   \n",
              "4                 0                              0.907239   49   \n",
              "\n",
              "   NumberOfTime30-59DaysPastDueNotWorse  DebtRatio  MonthlyIncome  \\\n",
              "0                                     2   0.802982         9120.0   \n",
              "1                                     0   0.121876         2600.0   \n",
              "2                                     1   0.085113         3042.0   \n",
              "3                                     0   0.036050         3300.0   \n",
              "4                                     1   0.024926        63588.0   \n",
              "\n",
              "   NumberOfOpenCreditLinesAndLoans  NumberOfTimes90DaysLate  \\\n",
              "0                               13                        0   \n",
              "1                                4                        0   \n",
              "2                                2                        1   \n",
              "3                                5                        0   \n",
              "4                                7                        0   \n",
              "\n",
              "   NumberRealEstateLoansOrLines  NumberOfTime60-89DaysPastDueNotWorse  \\\n",
              "0                             6                                     0   \n",
              "1                             0                                     0   \n",
              "2                             0                                     0   \n",
              "3                             0                                     0   \n",
              "4                             1                                     0   \n",
              "\n",
              "   NumberOfDependents  \n",
              "0                 2.0  \n",
              "1                 1.0  \n",
              "2                 0.0  \n",
              "3                 0.0  \n",
              "4                 0.0  "
            ],
            "text/html": [
              "\n",
              "  <div id=\"df-7fde91b3-012f-4450-84ef-894f79d73562\" class=\"colab-df-container\">\n",
              "    <div>\n",
              "<style scoped>\n",
              "    .dataframe tbody tr th:only-of-type {\n",
              "        vertical-align: middle;\n",
              "    }\n",
              "\n",
              "    .dataframe tbody tr th {\n",
              "        vertical-align: top;\n",
              "    }\n",
              "\n",
              "    .dataframe thead th {\n",
              "        text-align: right;\n",
              "    }\n",
              "</style>\n",
              "<table border=\"1\" class=\"dataframe\">\n",
              "  <thead>\n",
              "    <tr style=\"text-align: right;\">\n",
              "      <th></th>\n",
              "      <th>SeriousDlqin2yrs</th>\n",
              "      <th>RevolvingUtilizationOfUnsecuredLines</th>\n",
              "      <th>age</th>\n",
              "      <th>NumberOfTime30-59DaysPastDueNotWorse</th>\n",
              "      <th>DebtRatio</th>\n",
              "      <th>MonthlyIncome</th>\n",
              "      <th>NumberOfOpenCreditLinesAndLoans</th>\n",
              "      <th>NumberOfTimes90DaysLate</th>\n",
              "      <th>NumberRealEstateLoansOrLines</th>\n",
              "      <th>NumberOfTime60-89DaysPastDueNotWorse</th>\n",
              "      <th>NumberOfDependents</th>\n",
              "    </tr>\n",
              "  </thead>\n",
              "  <tbody>\n",
              "    <tr>\n",
              "      <th>0</th>\n",
              "      <td>1</td>\n",
              "      <td>0.766127</td>\n",
              "      <td>45</td>\n",
              "      <td>2</td>\n",
              "      <td>0.802982</td>\n",
              "      <td>9120.0</td>\n",
              "      <td>13</td>\n",
              "      <td>0</td>\n",
              "      <td>6</td>\n",
              "      <td>0</td>\n",
              "      <td>2.0</td>\n",
              "    </tr>\n",
              "    <tr>\n",
              "      <th>1</th>\n",
              "      <td>0</td>\n",
              "      <td>0.957151</td>\n",
              "      <td>40</td>\n",
              "      <td>0</td>\n",
              "      <td>0.121876</td>\n",
              "      <td>2600.0</td>\n",
              "      <td>4</td>\n",
              "      <td>0</td>\n",
              "      <td>0</td>\n",
              "      <td>0</td>\n",
              "      <td>1.0</td>\n",
              "    </tr>\n",
              "    <tr>\n",
              "      <th>2</th>\n",
              "      <td>0</td>\n",
              "      <td>0.658180</td>\n",
              "      <td>38</td>\n",
              "      <td>1</td>\n",
              "      <td>0.085113</td>\n",
              "      <td>3042.0</td>\n",
              "      <td>2</td>\n",
              "      <td>1</td>\n",
              "      <td>0</td>\n",
              "      <td>0</td>\n",
              "      <td>0.0</td>\n",
              "    </tr>\n",
              "    <tr>\n",
              "      <th>3</th>\n",
              "      <td>0</td>\n",
              "      <td>0.233810</td>\n",
              "      <td>30</td>\n",
              "      <td>0</td>\n",
              "      <td>0.036050</td>\n",
              "      <td>3300.0</td>\n",
              "      <td>5</td>\n",
              "      <td>0</td>\n",
              "      <td>0</td>\n",
              "      <td>0</td>\n",
              "      <td>0.0</td>\n",
              "    </tr>\n",
              "    <tr>\n",
              "      <th>4</th>\n",
              "      <td>0</td>\n",
              "      <td>0.907239</td>\n",
              "      <td>49</td>\n",
              "      <td>1</td>\n",
              "      <td>0.024926</td>\n",
              "      <td>63588.0</td>\n",
              "      <td>7</td>\n",
              "      <td>0</td>\n",
              "      <td>1</td>\n",
              "      <td>0</td>\n",
              "      <td>0.0</td>\n",
              "    </tr>\n",
              "  </tbody>\n",
              "</table>\n",
              "</div>\n",
              "    <div class=\"colab-df-buttons\">\n",
              "\n",
              "  <div class=\"colab-df-container\">\n",
              "    <button class=\"colab-df-convert\" onclick=\"convertToInteractive('df-7fde91b3-012f-4450-84ef-894f79d73562')\"\n",
              "            title=\"Convert this dataframe to an interactive table.\"\n",
              "            style=\"display:none;\">\n",
              "\n",
              "  <svg xmlns=\"http://www.w3.org/2000/svg\" height=\"24px\" viewBox=\"0 -960 960 960\">\n",
              "    <path d=\"M120-120v-720h720v720H120Zm60-500h600v-160H180v160Zm220 220h160v-160H400v160Zm0 220h160v-160H400v160ZM180-400h160v-160H180v160Zm440 0h160v-160H620v160ZM180-180h160v-160H180v160Zm440 0h160v-160H620v160Z\"/>\n",
              "  </svg>\n",
              "    </button>\n",
              "\n",
              "  <style>\n",
              "    .colab-df-container {\n",
              "      display:flex;\n",
              "      gap: 12px;\n",
              "    }\n",
              "\n",
              "    .colab-df-convert {\n",
              "      background-color: #E8F0FE;\n",
              "      border: none;\n",
              "      border-radius: 50%;\n",
              "      cursor: pointer;\n",
              "      display: none;\n",
              "      fill: #1967D2;\n",
              "      height: 32px;\n",
              "      padding: 0 0 0 0;\n",
              "      width: 32px;\n",
              "    }\n",
              "\n",
              "    .colab-df-convert:hover {\n",
              "      background-color: #E2EBFA;\n",
              "      box-shadow: 0px 1px 2px rgba(60, 64, 67, 0.3), 0px 1px 3px 1px rgba(60, 64, 67, 0.15);\n",
              "      fill: #174EA6;\n",
              "    }\n",
              "\n",
              "    .colab-df-buttons div {\n",
              "      margin-bottom: 4px;\n",
              "    }\n",
              "\n",
              "    [theme=dark] .colab-df-convert {\n",
              "      background-color: #3B4455;\n",
              "      fill: #D2E3FC;\n",
              "    }\n",
              "\n",
              "    [theme=dark] .colab-df-convert:hover {\n",
              "      background-color: #434B5C;\n",
              "      box-shadow: 0px 1px 3px 1px rgba(0, 0, 0, 0.15);\n",
              "      filter: drop-shadow(0px 1px 2px rgba(0, 0, 0, 0.3));\n",
              "      fill: #FFFFFF;\n",
              "    }\n",
              "  </style>\n",
              "\n",
              "    <script>\n",
              "      const buttonEl =\n",
              "        document.querySelector('#df-7fde91b3-012f-4450-84ef-894f79d73562 button.colab-df-convert');\n",
              "      buttonEl.style.display =\n",
              "        google.colab.kernel.accessAllowed ? 'block' : 'none';\n",
              "\n",
              "      async function convertToInteractive(key) {\n",
              "        const element = document.querySelector('#df-7fde91b3-012f-4450-84ef-894f79d73562');\n",
              "        const dataTable =\n",
              "          await google.colab.kernel.invokeFunction('convertToInteractive',\n",
              "                                                    [key], {});\n",
              "        if (!dataTable) return;\n",
              "\n",
              "        const docLinkHtml = 'Like what you see? Visit the ' +\n",
              "          '<a target=\"_blank\" href=https://colab.research.google.com/notebooks/data_table.ipynb>data table notebook</a>'\n",
              "          + ' to learn more about interactive tables.';\n",
              "        element.innerHTML = '';\n",
              "        dataTable['output_type'] = 'display_data';\n",
              "        await google.colab.output.renderOutput(dataTable, element);\n",
              "        const docLink = document.createElement('div');\n",
              "        docLink.innerHTML = docLinkHtml;\n",
              "        element.appendChild(docLink);\n",
              "      }\n",
              "    </script>\n",
              "  </div>\n",
              "\n",
              "\n",
              "<div id=\"df-c3005a6c-c0f1-4da7-a9f6-887a080ac6c1\">\n",
              "  <button class=\"colab-df-quickchart\" onclick=\"quickchart('df-c3005a6c-c0f1-4da7-a9f6-887a080ac6c1')\"\n",
              "            title=\"Suggest charts\"\n",
              "            style=\"display:none;\">\n",
              "\n",
              "<svg xmlns=\"http://www.w3.org/2000/svg\" height=\"24px\"viewBox=\"0 0 24 24\"\n",
              "     width=\"24px\">\n",
              "    <g>\n",
              "        <path d=\"M19 3H5c-1.1 0-2 .9-2 2v14c0 1.1.9 2 2 2h14c1.1 0 2-.9 2-2V5c0-1.1-.9-2-2-2zM9 17H7v-7h2v7zm4 0h-2V7h2v10zm4 0h-2v-4h2v4z\"/>\n",
              "    </g>\n",
              "</svg>\n",
              "  </button>\n",
              "\n",
              "<style>\n",
              "  .colab-df-quickchart {\n",
              "      --bg-color: #E8F0FE;\n",
              "      --fill-color: #1967D2;\n",
              "      --hover-bg-color: #E2EBFA;\n",
              "      --hover-fill-color: #174EA6;\n",
              "      --disabled-fill-color: #AAA;\n",
              "      --disabled-bg-color: #DDD;\n",
              "  }\n",
              "\n",
              "  [theme=dark] .colab-df-quickchart {\n",
              "      --bg-color: #3B4455;\n",
              "      --fill-color: #D2E3FC;\n",
              "      --hover-bg-color: #434B5C;\n",
              "      --hover-fill-color: #FFFFFF;\n",
              "      --disabled-bg-color: #3B4455;\n",
              "      --disabled-fill-color: #666;\n",
              "  }\n",
              "\n",
              "  .colab-df-quickchart {\n",
              "    background-color: var(--bg-color);\n",
              "    border: none;\n",
              "    border-radius: 50%;\n",
              "    cursor: pointer;\n",
              "    display: none;\n",
              "    fill: var(--fill-color);\n",
              "    height: 32px;\n",
              "    padding: 0;\n",
              "    width: 32px;\n",
              "  }\n",
              "\n",
              "  .colab-df-quickchart:hover {\n",
              "    background-color: var(--hover-bg-color);\n",
              "    box-shadow: 0 1px 2px rgba(60, 64, 67, 0.3), 0 1px 3px 1px rgba(60, 64, 67, 0.15);\n",
              "    fill: var(--button-hover-fill-color);\n",
              "  }\n",
              "\n",
              "  .colab-df-quickchart-complete:disabled,\n",
              "  .colab-df-quickchart-complete:disabled:hover {\n",
              "    background-color: var(--disabled-bg-color);\n",
              "    fill: var(--disabled-fill-color);\n",
              "    box-shadow: none;\n",
              "  }\n",
              "\n",
              "  .colab-df-spinner {\n",
              "    border: 2px solid var(--fill-color);\n",
              "    border-color: transparent;\n",
              "    border-bottom-color: var(--fill-color);\n",
              "    animation:\n",
              "      spin 1s steps(1) infinite;\n",
              "  }\n",
              "\n",
              "  @keyframes spin {\n",
              "    0% {\n",
              "      border-color: transparent;\n",
              "      border-bottom-color: var(--fill-color);\n",
              "      border-left-color: var(--fill-color);\n",
              "    }\n",
              "    20% {\n",
              "      border-color: transparent;\n",
              "      border-left-color: var(--fill-color);\n",
              "      border-top-color: var(--fill-color);\n",
              "    }\n",
              "    30% {\n",
              "      border-color: transparent;\n",
              "      border-left-color: var(--fill-color);\n",
              "      border-top-color: var(--fill-color);\n",
              "      border-right-color: var(--fill-color);\n",
              "    }\n",
              "    40% {\n",
              "      border-color: transparent;\n",
              "      border-right-color: var(--fill-color);\n",
              "      border-top-color: var(--fill-color);\n",
              "    }\n",
              "    60% {\n",
              "      border-color: transparent;\n",
              "      border-right-color: var(--fill-color);\n",
              "    }\n",
              "    80% {\n",
              "      border-color: transparent;\n",
              "      border-right-color: var(--fill-color);\n",
              "      border-bottom-color: var(--fill-color);\n",
              "    }\n",
              "    90% {\n",
              "      border-color: transparent;\n",
              "      border-bottom-color: var(--fill-color);\n",
              "    }\n",
              "  }\n",
              "</style>\n",
              "\n",
              "  <script>\n",
              "    async function quickchart(key) {\n",
              "      const quickchartButtonEl =\n",
              "        document.querySelector('#' + key + ' button');\n",
              "      quickchartButtonEl.disabled = true;  // To prevent multiple clicks.\n",
              "      quickchartButtonEl.classList.add('colab-df-spinner');\n",
              "      try {\n",
              "        const charts = await google.colab.kernel.invokeFunction(\n",
              "            'suggestCharts', [key], {});\n",
              "      } catch (error) {\n",
              "        console.error('Error during call to suggestCharts:', error);\n",
              "      }\n",
              "      quickchartButtonEl.classList.remove('colab-df-spinner');\n",
              "      quickchartButtonEl.classList.add('colab-df-quickchart-complete');\n",
              "    }\n",
              "    (() => {\n",
              "      let quickchartButtonEl =\n",
              "        document.querySelector('#df-c3005a6c-c0f1-4da7-a9f6-887a080ac6c1 button');\n",
              "      quickchartButtonEl.style.display =\n",
              "        google.colab.kernel.accessAllowed ? 'block' : 'none';\n",
              "    })();\n",
              "  </script>\n",
              "</div>\n",
              "\n",
              "    </div>\n",
              "  </div>\n"
            ],
            "application/vnd.google.colaboratory.intrinsic+json": {
              "type": "dataframe",
              "variable_name": "data_org"
            }
          },
          "metadata": {},
          "execution_count": 21
        }
      ]
    },
    {
      "cell_type": "markdown",
      "metadata": {
        "id": "hispanic-reply"
      },
      "source": [
        "### EDA &  Visualization ( 1 point)"
      ],
      "id": "hispanic-reply"
    },
    {
      "cell_type": "markdown",
      "metadata": {
        "id": "standing-cheese"
      },
      "source": [
        "#### Calculate the percentage of the target lebels and visualize with a graph"
      ],
      "id": "standing-cheese"
    },
    {
      "cell_type": "code",
      "metadata": {
        "id": "attractive-hands",
        "colab": {
          "base_uri": "https://localhost:8080/"
        },
        "outputId": "99351dba-a136-4058-aa8f-38c626d52e85"
      },
      "source": [
        "# YOUR CODE HERE\n",
        "data_org['SeriousDlqin2yrs'].value_counts()"
      ],
      "id": "attractive-hands",
      "execution_count": 25,
      "outputs": [
        {
          "output_type": "execute_result",
          "data": {
            "text/plain": [
              "SeriousDlqin2yrs\n",
              "0    139974\n",
              "1     10026\n",
              "Name: count, dtype: int64"
            ]
          },
          "metadata": {},
          "execution_count": 25
        }
      ]
    },
    {
      "cell_type": "markdown",
      "metadata": {
        "id": "satisfactory-stopping"
      },
      "source": [
        "#### Plot the distribution of SeriousDlqin2yrs by age"
      ],
      "id": "satisfactory-stopping"
    },
    {
      "cell_type": "code",
      "metadata": {
        "id": "multiple-series",
        "colab": {
          "base_uri": "https://localhost:8080/",
          "height": 957
        },
        "outputId": "4ca8623d-2c5d-4eb5-f9d0-b12f0911e7ab"
      },
      "source": [
        "# YOUR CODE HERE\n",
        "plt.figure(figsize=(10,10))\n",
        "sns.countplot(x='age', hue='SeriousDlqin2yrs', data=data_org)"
      ],
      "id": "multiple-series",
      "execution_count": 31,
      "outputs": [
        {
          "output_type": "stream",
          "name": "stderr",
          "text": [
            "/usr/local/lib/python3.10/dist-packages/seaborn/_base.py:949: FutureWarning: When grouping with a length-1 list-like, you will need to pass a length-1 tuple to get_group in a future version of pandas. Pass `(name,)` instead of `name` to silence this warning.\n",
            "  data_subset = grouped_data.get_group(pd_key)\n",
            "/usr/local/lib/python3.10/dist-packages/seaborn/_base.py:949: FutureWarning: When grouping with a length-1 list-like, you will need to pass a length-1 tuple to get_group in a future version of pandas. Pass `(name,)` instead of `name` to silence this warning.\n",
            "  data_subset = grouped_data.get_group(pd_key)\n"
          ]
        },
        {
          "output_type": "execute_result",
          "data": {
            "text/plain": [
              "<Axes: xlabel='age', ylabel='count'>"
            ]
          },
          "metadata": {},
          "execution_count": 31
        },
        {
          "output_type": "display_data",
          "data": {
            "text/plain": [
              "<Figure size 1000x1000 with 1 Axes>"
            ],
            "image/png": "[encoded data removed]"
          },
          "metadata": {}
        }
      ]
    },
    {
      "cell_type": "markdown",
      "metadata": {
        "id": "promotional-rolling"
      },
      "source": [
        "#### Calculate the correlation and plot the heatmap"
      ],
      "id": "promotional-rolling"
    },
    {
      "cell_type": "code",
      "metadata": {
        "id": "studied-candidate",
        "colab": {
          "base_uri": "https://localhost:8080/",
          "height": 1000
        },
        "outputId": "2f223757-d1f5-43a9-e502-2cdcb3fc5544"
      },
      "source": [
        "# YOUR CODE HERE\n",
        "data_org.corr()\n",
        "# sns heatmap with counts with fig size\n",
        "plt.figure(figsize=(10,10))\n",
        "sns.heatmap(data_org.corr(), annot=True)\n"
      ],
      "id": "studied-candidate",
      "execution_count": 30,
      "outputs": [
        {
          "output_type": "execute_result",
          "data": {
            "text/plain": [
              "<Axes: >"
            ]
          },
          "metadata": {},
          "execution_count": 30
        },
        {
          "output_type": "display_data",
          "data": {
            "text/plain": [
              "<Figure size 1000x1000 with 2 Axes>"
            ],
            "image/png": "[encoded data removed]"
          },
          "metadata": {}
        }
      ]
    },
    {
      "cell_type": "markdown",
      "metadata": {
        "id": "operational-minute"
      },
      "source": [
        "### Data Engineering (2 points)"
      ],
      "id": "operational-minute"
    },
    {
      "cell_type": "markdown",
      "metadata": {
        "id": "outer-telephone"
      },
      "source": [
        "#### Weight of Evidence and Information value\n",
        "\n",
        "* Arrange the binning for each variable with different bins\n",
        "    * For eg. Age = 49, Age_quantile_range = (48, 56)\n",
        "* Calculate information value and chooose the best features based on the rules given below\n",
        "\n",
        "| Information Value |\tVariable Predictiveness |\n",
        "| --- | --- |\n",
        "| Less than 0.02\t|  Not useful for prediction |\n",
        "| 0.02 to 0.1\t| Weak predictive Power |\n",
        "|  0.1 to 0.3 | Medium predictive Power |\n",
        "| 0.3 to 0.5 | Strong predictive Power |\n",
        "| >0.5 | Suspicious Predictive Power |\n",
        "\n",
        "* Calculate Weight of evidence for the selected variables\n",
        "\n",
        "Hint: Use [xverse](https://cdn.iisc.talentsprint.com/CDS/Assignments/Module2/M2_NB_MiniProject_2_Credit_risk_modelling_Logistic_Regression_Xverse.pdf). It is a machine learning Python module in the space of feature engineering, feature transformation and feature selection. It provides pre-built functions for the above steps, such as binning and conversion to WoE."
      ],
      "id": "outer-telephone"
    },
    {
      "cell_type": "code",
      "metadata": {
        "id": "ordered-knock"
      },
      "source": [
        "# YOUR CODE HERE"
      ],
      "id": "ordered-knock",
      "execution_count": null,
      "outputs": []
    },
    {
      "cell_type": "markdown",
      "metadata": {
        "id": "conservative-rebel"
      },
      "source": [
        "### Identify features,  target and split it into train and test"
      ],
      "id": "conservative-rebel"
    },
    {
      "cell_type": "code",
      "metadata": {
        "id": "ambient-dress"
      },
      "source": [
        "# YOUR CODE HERE"
      ],
      "id": "ambient-dress",
      "execution_count": null,
      "outputs": []
    },
    {
      "cell_type": "markdown",
      "metadata": {
        "id": "decreased-sucking"
      },
      "source": [
        "### Logistic Regression from scratch using gradient method (2 points)\n",
        "\n",
        "For Linear Regression, we had the hypothesis $yhat = w.X +b$ , whose output range was the set of all Real Numbers.\n",
        "Now, for Logistic Regression our hypothesis is  $yhat = sigmoid(w.X + b)$ , whose output range is between 0 and 1 because by applying a sigmoid function, we always output a number between 0 and 1.\n",
        "\n",
        "$yhat = \\frac{1}{1 +e^{-(w.x+b)}}$\n",
        "\n",
        "Hint: [logistic-regression-with-python](https://cdn.iisc.talentsprint.com/CDS/Assignments/Module2/odsc%20%20Logistic.pdf)"
      ],
      "id": "decreased-sucking"
    },
    {
      "cell_type": "code",
      "metadata": {
        "id": "precious-business"
      },
      "source": [
        "# YOUR CODE HERE"
      ],
      "id": "precious-business",
      "execution_count": null,
      "outputs": []
    },
    {
      "cell_type": "markdown",
      "metadata": {
        "id": "reliable-black"
      },
      "source": [
        "### Implement the Logistic regression using sklearn (2 points)\n",
        "\n",
        "As there is imbalance in the class distribution, add weightage to the Logistic regression.\n",
        "\n",
        "* Find the accuracy with class weightage in Logistic regression\n",
        "* Find the accuracy without class weightage in Logistic regression\n",
        "\n",
        "Hint: [LogisticRegression](https://scikit-learn.org/stable/modules/generated/sklearn.linear_model.LogisticRegression.html)"
      ],
      "id": "reliable-black"
    },
    {
      "cell_type": "code",
      "metadata": {
        "id": "impressive-assistant"
      },
      "source": [
        "# With weightage\n",
        "# YOUR CODE HERE"
      ],
      "id": "impressive-assistant",
      "execution_count": null,
      "outputs": []
    },
    {
      "cell_type": "code",
      "metadata": {
        "id": "similar-flower"
      },
      "source": [
        "# Without weightage\n",
        "# YOUR CODE HERE"
      ],
      "id": "similar-flower",
      "execution_count": null,
      "outputs": []
    },
    {
      "cell_type": "markdown",
      "metadata": {
        "id": "signal-error"
      },
      "source": [
        "### Credit scoring (1 point)\n",
        "\n",
        "When scaling the model into a scorecard, we will need both the Logistic Regression coefficients from model fitting as well as the transformed WoE values. We will also need to convert the score from the model from the log-odds unit to a points system.\n",
        "For each independent variable Xi, its corresponding score is:\n",
        "\n",
        "$Score = \\sum_{i=1}^{n} (-(β_i × WoE_i + \\frac{α}{n}) × Factor + \\frac{Offset}{n})$\n",
        "\n",
        "Where:\n",
        "\n",
        "βi — logistic regression coefficient for the variable Xi\n",
        "\n",
        "α — logistic regression intercept\n",
        "\n",
        "WoE — Weight of Evidence value for variable Xi\n",
        "\n",
        "n — number of independent variable Xi in the model\n",
        "\n",
        "Factor, Offset — known as scaling parameter\n",
        "\n",
        "  - Factor = pdo / ln(2); pdo is points to double the odds\n",
        "  - Offset = Round_of_Score - {Factor * ln(Odds)}"
      ],
      "id": "signal-error"
    },
    {
      "cell_type": "code",
      "metadata": {
        "id": "worst-spare"
      },
      "source": [
        "# Scaling factors\n",
        "factor = 20/np.log(2)\n",
        "offset = 600 - ( factor * np.log(50))\n",
        "factor, offset"
      ],
      "id": "worst-spare",
      "execution_count": null,
      "outputs": []
    },
    {
      "cell_type": "code",
      "metadata": {
        "id": "XwwnwQKMU_Nx"
      },
      "source": [
        "# YOUR CODE HERE"
      ],
      "id": "XwwnwQKMU_Nx",
      "execution_count": null,
      "outputs": []
    },
    {
      "cell_type": "markdown",
      "metadata": {
        "id": "intelligent-internship"
      },
      "source": [
        "### Performance Metrics (1 point)"
      ],
      "id": "intelligent-internship"
    },
    {
      "cell_type": "markdown",
      "metadata": {
        "id": "innocent-hygiene"
      },
      "source": [
        "#### Precision"
      ],
      "id": "innocent-hygiene"
    },
    {
      "cell_type": "code",
      "metadata": {
        "id": "optimum-listening"
      },
      "source": [
        "# YOUR CODE HERE"
      ],
      "id": "optimum-listening",
      "execution_count": null,
      "outputs": []
    },
    {
      "cell_type": "markdown",
      "metadata": {
        "id": "accessory-keyboard"
      },
      "source": [
        "#### Recall"
      ],
      "id": "accessory-keyboard"
    },
    {
      "cell_type": "code",
      "metadata": {
        "id": "civic-corner"
      },
      "source": [
        "# YOUR CODE HERE"
      ],
      "id": "civic-corner",
      "execution_count": null,
      "outputs": []
    },
    {
      "cell_type": "markdown",
      "metadata": {
        "id": "wired-amendment"
      },
      "source": [
        "#### Classification Report"
      ],
      "id": "wired-amendment"
    },
    {
      "cell_type": "code",
      "metadata": {
        "id": "impossible-machinery"
      },
      "source": [
        "# YOUR CODE HERE"
      ],
      "id": "impossible-machinery",
      "execution_count": null,
      "outputs": []
    },
    {
      "cell_type": "markdown",
      "metadata": {
        "id": "dense-feelings"
      },
      "source": [
        "#### Confusion matrix"
      ],
      "id": "dense-feelings"
    },
    {
      "cell_type": "code",
      "metadata": {
        "id": "running-remains"
      },
      "source": [
        "# YOUR CODE HERE"
      ],
      "id": "running-remains",
      "execution_count": null,
      "outputs": []
    },
    {
      "cell_type": "markdown",
      "metadata": {
        "id": "RR-ivkGyqJXs"
      },
      "source": [
        "### Report Analysis\n",
        "\n",
        "* Comment on the performance of the model with weightage and without weightage\n",
        "* Have you tried implementing Logistic regression with normal features instead of WOE ?\n",
        "  - Compare the classification report for both implementations"
      ],
      "id": "RR-ivkGyqJXs"
    },
    {
      "cell_type": "markdown",
      "source": [
        "## SHAP implementation for Logistic Regression (Optional)\n",
        "\n",
        "Implement SHAP and understand the underlying reasons or factors that are maximally influencing the model's predictions."
      ],
      "metadata": {
        "id": "kas4-RzF6u7y"
      },
      "id": "kas4-RzF6u7y"
    },
    {
      "cell_type": "markdown",
      "source": [
        "**SHAP (SHapley Additive exPlanations)** is a game theoretic approach to explain the output of any machine learning model. It connects optimal credit allocation with local explanations using the classic Shapley values from game theory and their related extensions.\n",
        "\n",
        "In the below figure, we can see how the different feature values (Age, Sex, BMI, etc) are affecting the base value (0.1) to give the final output prediction (0.4). The base value or the expected value is the average of the model output over the training data X_train.\n",
        "\n",
        "![](https://cdn.iisc.talentsprint.com/CDS/Images/Shap_model.png)"
      ],
      "metadata": {
        "id": "qhBunQ-77JCw"
      },
      "id": "qhBunQ-77JCw"
    },
    {
      "cell_type": "markdown",
      "source": [
        "To understand how to compute and interpet Shapley-based explanations of a machine learning model, we will use the following plots:\n",
        "\n",
        "- Force plot\n",
        "- Feature importance plot\n",
        "- Summary plot\n",
        "- Dependence plot\n",
        "- Clustering Shapley values"
      ],
      "metadata": {
        "id": "TozINzm67Y4o"
      },
      "id": "TozINzm67Y4o"
    },
    {
      "cell_type": "code",
      "source": [
        "!pip -qq install shap"
      ],
      "metadata": {
        "id": "vHg8XxZj7dUY"
      },
      "id": "vHg8XxZj7dUY",
      "execution_count": null,
      "outputs": []
    },
    {
      "cell_type": "code",
      "source": [
        "import shap\n",
        "import warnings\n",
        "warnings.filterwarnings(\"ignore\")"
      ],
      "metadata": {
        "id": "rX8AH1nW7gRB"
      },
      "id": "rX8AH1nW7gRB",
      "execution_count": null,
      "outputs": []
    },
    {
      "cell_type": "markdown",
      "source": [
        "### Force plot for individual instances (Optional)\n",
        "\n",
        "We can visualize feature attributions such as Shapley values as “forces”. Each feature value is a force that either increases or decreases the prediction. The prediction starts from the baseline. The baseline for Shapley values is the average of all predictions.\n",
        "\n",
        "In the plot, each Shapley value should be represented as an arrow that pushes to increase (positive value) or decrease (negative value) the prediction. These forces balance each other out at the actual prediction of the data instance.\n",
        "\n",
        "**Hint:** Use `shap.force_plot()` function that takes three values:\n",
        "\n",
        "- the base value (explainer.expected_value),\n",
        "- the SHAP values, and\n",
        "- the matrix of feature values\n",
        "\n",
        "Show the SHAP force plots for two instances from the GiveMeSomeCredit dataset:"
      ],
      "metadata": {
        "id": "lkciaNYj7k24"
      },
      "id": "lkciaNYj7k24"
    },
    {
      "cell_type": "code",
      "source": [
        "# Instead of using the whole training set to estimate expected values, we summarize with\n",
        "# a set of weighted kmeans, each weighted by the number of points they represent.\n",
        "# summarize the background as K samples. Use 'shap.kmeans()' and\n",
        "# store it in a variable 'xtrain_summary'\n",
        "\n",
        "# YOUR CODE HERE"
      ],
      "metadata": {
        "id": "zNURb_wP72sK"
      },
      "id": "zNURb_wP72sK",
      "execution_count": null,
      "outputs": []
    },
    {
      "cell_type": "code",
      "source": [
        "# Convert the selected columns into list\n",
        "feature_names = selected_columns.tolist()"
      ],
      "metadata": {
        "id": "hXDMp0ft-HOP"
      },
      "id": "hXDMp0ft-HOP",
      "execution_count": null,
      "outputs": []
    },
    {
      "cell_type": "code",
      "source": [
        "# Force plot for an instance\n",
        "shap.initjs()\n",
        "explainer = shap.KernelExplainer(log_reg.predict, xtrain_summary)\n",
        "shap_value = explainer.shap_values(xtest.iloc[0,:].values)\n",
        "shap.force_plot(explainer.expected_value, shap_value, xtest.iloc[0,:].values, feature_names = feature_names)"
      ],
      "metadata": {
        "id": "0Z9KR11986lH"
      },
      "id": "0Z9KR11986lH",
      "execution_count": null,
      "outputs": []
    },
    {
      "cell_type": "markdown",
      "source": [
        "In the above plot:\n",
        "\n",
        "- The output value **f(x)** is the prediction for that observation (the predicted output value of the first row in X_test is ≈ **0**, indicating low credit risk).\n",
        "- The **base value**: is “the value that would be predicted if we did not know any features for the current output.” Here it is **0.004808**.\n",
        "- Red/blue: Features that push the prediction value higher (to the right) are shown in red, and those pushing the prediction value lower are in blue.\n",
        "\n",
        "The features are having risk decreasing effects."
      ],
      "metadata": {
        "id": "kZoj8BPG-StQ"
      },
      "id": "kZoj8BPG-StQ"
    },
    {
      "cell_type": "code",
      "source": [
        "# Force plot for another instance\n",
        "\n",
        "# YOUR CODE HERE"
      ],
      "metadata": {
        "id": "qKnjCee286mJ"
      },
      "id": "qKnjCee286mJ",
      "execution_count": null,
      "outputs": []
    },
    {
      "cell_type": "markdown",
      "source": [
        "From the above plot, put your remarks on the output value **f(x)** i.e, the predicted output value for that observation is ≈ **0**.\n",
        "\n",
        "Put your remarks on predicted risk."
      ],
      "metadata": {
        "id": "FsE2CIuo_AvK"
      },
      "id": "FsE2CIuo_AvK"
    },
    {
      "cell_type": "markdown",
      "source": [
        "Shapley values can be combined into global explanations. If we run SHAP for every instance, we get a matrix of Shapley values. This matrix has one row per data instance and one column per feature. We can interpret the entire model by analyzing the Shapley values in this matrix."
      ],
      "metadata": {
        "id": "RmHZq5NG_iqu"
      },
      "id": "RmHZq5NG_iqu"
    },
    {
      "cell_type": "markdown",
      "source": [
        "### SHAP Feature Importance (Optional)\n",
        "\n",
        "The idea behind SHAP feature importance is simple: Features with large **absolute** Shapley values are important. Since we want the global importance, we average the absolute Shapley values per feature across the data. Next, we sort the features by decreasing importance and plot them.\n",
        "\n",
        "Plot the SHAP feature importance for the logistic regression model trained before for predicting credit risk."
      ],
      "metadata": {
        "id": "G3sT-msd_nY-"
      },
      "id": "G3sT-msd_nY-"
    },
    {
      "cell_type": "markdown",
      "source": [
        "**Hint:** Use the `shap.summary_plot` function with `plot_type=”bar”` to produce the feature importance plot. It lists the most significant features in descending order. The top variables contribute more to the model than the bottom ones and thus have high predictive power."
      ],
      "metadata": {
        "id": "juMkosFJ_zwg"
      },
      "id": "juMkosFJ_zwg"
    },
    {
      "cell_type": "code",
      "source": [
        "# Get SHAP values\n",
        "shap_values = explainer.shap_values(xtest)"
      ],
      "metadata": {
        "id": "AJ4QS2QoACI-"
      },
      "id": "AJ4QS2QoACI-",
      "execution_count": null,
      "outputs": []
    },
    {
      "cell_type": "code",
      "source": [
        "# Plot the Feature importance. Use 'shap.summary_plot()'\n",
        "\n",
        "# YOUR CODE HERE"
      ],
      "metadata": {
        "id": "LqMKYSswAEgY"
      },
      "id": "LqMKYSswAEgY",
      "execution_count": null,
      "outputs": []
    },
    {
      "cell_type": "markdown",
      "source": [
        "For a more informative plot, we will look at the summary plot."
      ],
      "metadata": {
        "id": "t5_fsxguATJ2"
      },
      "id": "t5_fsxguATJ2"
    },
    {
      "cell_type": "markdown",
      "source": [
        "### SHAP Summary Plot (Optional)\n",
        "\n",
        "The summary plot combines feature importance with feature effects:\n",
        "\n",
        "* Each point on the summary plot shoukd indicate a Shapley value for a feature and an instance.\n",
        "* The position on the y-axis should be determined by the feature and on the x-axis by the Shapley value.\n",
        "* Overlapping points should be appearing jittered in y-axis direction, to get a sense of the distribution of the Shapley values per feature."
      ],
      "metadata": {
        "id": "KkCy98USAXNG"
      },
      "id": "KkCy98USAXNG"
    },
    {
      "cell_type": "code",
      "source": [
        "# Show the Summary plot. Use 'shap.summary_plot()'\n",
        "\n",
        "# YOUR CODE HERE"
      ],
      "metadata": {
        "id": "ZZAXRxa1Arb2"
      },
      "id": "ZZAXRxa1Arb2",
      "execution_count": null,
      "outputs": []
    },
    {
      "cell_type": "markdown",
      "source": [
        "In the summary plot, we see first indications of the relationship between the value of a feature and the impact on the prediction. But to see the exact form of the relationship, we have to look at SHAP dependence plots."
      ],
      "metadata": {
        "id": "xZPUrha2A3ds"
      },
      "id": "xZPUrha2A3ds"
    },
    {
      "cell_type": "markdown",
      "source": [
        "### SHAP Dependence Plot (Optional)"
      ],
      "metadata": {
        "id": "DC-uu3wZBEfu"
      },
      "id": "DC-uu3wZBEfu"
    },
    {
      "cell_type": "markdown",
      "source": [
        "The partial dependence plot shows the marginal effect of one or two features have on the predicted outcome of a machine learning model. It tells whether the relationship between the target and a feature is linear, monotonic or more complex.\n",
        "\n",
        "To implement SHAP feature dependence plot:\n",
        "\n",
        "* Pick a feature\n",
        "* For each data instance, plot a point with the feature value on the x-axis and the corresponding Shapley value on the y-axis\n",
        "\n",
        "**Hint:** In order to create a dependence plot, we use `shap.dependence_plot()` function. The function automatically includes another variable that the chosen variable interacts most with. The following plot should show the relationship between “age” and the target variable, and “age” interacts with “NumberOfTime60-89DaysPastDueNotWorse” feature frequently."
      ],
      "metadata": {
        "id": "HOBz0-bpBKkf"
      },
      "id": "HOBz0-bpBKkf"
    },
    {
      "cell_type": "code",
      "source": [
        "# Show the Dependence plot. Use 'shap.dependence_plot()'\n",
        "\n",
        "# YOUR CODE HERE"
      ],
      "metadata": {
        "id": "i0-BxNVgBkNm"
      },
      "id": "i0-BxNVgBkNm",
      "execution_count": null,
      "outputs": []
    },
    {
      "cell_type": "markdown",
      "source": [
        "### Clustering Shapley Values (Optional)\n",
        "\n",
        "We can cluster the data with the help of Shapley values. The goal of clustering is to find groups of similar instances.\n",
        "\n",
        "SHAP clustering works by clustering the Shapley values of each instance. This means that we cluster instances by explanation similarity. All SHAP values have the same unit – the unit of the prediction space. We can use any clustering method. In the following code cell, you need to use hierarchical agglomerative clustering to order the instances.\n",
        "\n",
        "The plot should consist of many force plots, each of which will explain the prediction of an instance. Rotate the force plots vertically and place them side by side according to their clustering similarity."
      ],
      "metadata": {
        "id": "F78xpqVPCAfW"
      },
      "id": "F78xpqVPCAfW"
    },
    {
      "cell_type": "code",
      "source": [
        "# Show the Force plot for first 100 instances of xtest\n",
        "shap.initjs()\n",
        "\n",
        "# Use shap.force_plot()\n",
        "\n",
        "# YOUR CODE HERE"
      ],
      "metadata": {
        "id": "IM0ka8zuCq_n"
      },
      "id": "IM0ka8zuCq_n",
      "execution_count": null,
      "outputs": []
    },
    {
      "cell_type": "markdown",
      "source": [
        "Put your remarks here regarding the above plot"
      ],
      "metadata": {
        "id": "i1l7QHnbDPbH"
      },
      "id": "i1l7QHnbDPbH"
    },
    {
      "cell_type": "markdown",
      "source": [
        "Also, we can show the force_plot() for the entire set using the below code cell. Note that it may take more than 30 minutes to run the below cell."
      ],
      "metadata": {
        "id": "FcHezardDbQ8"
      },
      "id": "FcHezardDbQ8"
    },
    {
      "cell_type": "code",
      "source": [
        "# Force plot for entire xtest\n",
        "#shap.initjs()\n",
        "#shap.force_plot(explainer.expected_value, shap_values, xtest.values, feature_names = feature_names)"
      ],
      "metadata": {
        "id": "p2UkQT67Dqxm"
      },
      "id": "p2UkQT67Dqxm",
      "execution_count": null,
      "outputs": []
    }
  ]
}